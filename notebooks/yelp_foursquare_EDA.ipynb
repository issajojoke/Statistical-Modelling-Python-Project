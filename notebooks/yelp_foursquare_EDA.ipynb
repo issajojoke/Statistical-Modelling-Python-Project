{
 "cells": [
  {
   "cell_type": "code",
   "execution_count": 1,
   "metadata": {},
   "outputs": [],
   "source": [
    "# imports\n",
    "import requests\n",
    "import json\n",
    "import pandas as pd\n",
    "import os"
   ]
  },
  {
   "cell_type": "markdown",
   "metadata": {},
   "source": [
    "# Foursquare"
   ]
  },
  {
   "cell_type": "markdown",
   "metadata": {},
   "source": [
    "Send a request to Foursquare with a small radius (1000m) for all the bike stations in your city of choice. "
   ]
  },
  {
   "cell_type": "code",
   "execution_count": 6,
   "metadata": {},
   "outputs": [],
   "source": [
    "# connect to foursquare api\n",
    "\n",
    "def fs_api_request(ll,radius,categories,fields):\n",
    "    fs_url = 'https://api.foursquare.com/v3/places/search' \n",
    "    key = os.environ.get('FOURSQUARE_API_KEY')\n",
    "    fs_headers = {\"authorization\": f'{key}',\"accept\": \"application/json\"}\n",
    "    fs_params = {\n",
    "        \"ll\": ll,\n",
    "        \"radius\": radius,\n",
    "        \"categories\": categories,\n",
    "        \"fields\": fields,\n",
    "    }\n",
    "    fs_response = requests.get(fs_url, headers=fs_headers, params=fs_params)\n",
    "    fs_data = fs_response.json()\n",
    "\n",
    "    return fs_data\n",
    "\n",
    "bike_df = pd.read_csv('bike_stations.csv') # read bike stations csv\n",
    "\n",
    "for index,row in bike_df.iterrows():\n",
    "    ll = f\"{row['latitude']},{row['longitude']}\"\n",
    "    results = fs_api_request(ll,radius=1000,categories=None,fields=None)\n",
    "print(results['results'][0]['location']['formatted_address'])"
   ]
  },
  {
   "cell_type": "markdown",
   "metadata": {},
   "source": [
    "Parse through the response to get the POI (such as restaurants, bars, etc) details you want (ratings, name, location, etc)"
   ]
  },
  {
   "cell_type": "code",
   "execution_count": null,
   "metadata": {},
   "outputs": [],
   "source": [
    "for index,row in bike_df.iterrows():\n",
    "    ll = f\"{row['latitude']},{row['longitude']}\"\n",
    "    results = fs_api_request(ll,radius=1000,categories=None,fields=None)\n",
    "\n",
    "    venue_name = results['results'][0]['categories'][0]['name']\n",
    "    venue_location = results['results'][0]['location']['formatted_address']\n",
    "\n",
    "    print(f'name = {venue_name}, location = {venue_location}')"
   ]
  },
  {
   "cell_type": "markdown",
   "metadata": {},
   "source": [
    "Put your parsed results into a DataFrame"
   ]
  },
  {
   "cell_type": "code",
   "execution_count": null,
   "metadata": {},
   "outputs": [],
   "source": [
    "# create dataframe to store venue data\n",
    "fs_venue_df = pd.DataFrame()\n",
    "\n",
    "for index,row in bike_df.iterrows():\n",
    "    ll = f\"{row['latitude']},{row['longitude']}\"\n",
    "    results = fs_api_request(ll,radius=1000,categories=13065,fields=None) # 13065 = restaurant\n",
    "    norm_results = pd.json_normalize(results)\n",
    "    norm_results['station_id'] = row['id'] # add station id to dataframe\n",
    "\n",
    "    fs_venue_df = pd.concat([fs_venue_df,norm_results], ignore_index=True)\n",
    "\n",
    "fs_venue_df"
   ]
  },
  {
   "cell_type": "code",
   "execution_count": null,
   "metadata": {},
   "outputs": [],
   "source": [
    "fs_venue_df.to_csv('fs_venue_df.csv', index=False) # save dataframe to csv\n",
    "fs_venue_df"
   ]
  },
  {
   "cell_type": "code",
   "execution_count": null,
   "metadata": {},
   "outputs": [],
   "source": [
    "fs_venue = pd.read_csv('fs_venue_df.csv') # read csv\n",
    "\n",
    "normalized_results_column = pd.json_normalize(fs_venue['results'])\n",
    "fs_venue['distance'] = normalized_results_column['distance']"
   ]
  },
  {
   "cell_type": "markdown",
   "metadata": {},
   "source": [
    "# Yelp"
   ]
  },
  {
   "cell_type": "markdown",
   "metadata": {},
   "source": [
    "Send a request to Yelp with a small radius (1000m) for all the bike stations in your city of choice. "
   ]
  },
  {
   "cell_type": "code",
   "execution_count": 4,
   "metadata": {},
   "outputs": [
    {
     "ename": "KeyError",
     "evalue": "'YELP_API_KEY'",
     "output_type": "error",
     "traceback": [
      "\u001b[0;31m---------------------------------------------------------------------------\u001b[0m",
      "\u001b[0;31mKeyError\u001b[0m                                  Traceback (most recent call last)",
      "\u001b[1;32m/Users/jolineduong/Desktop/LHL/Statistical-Modelling-Python-Project/notebooks/yelp_foursquare_EDA.ipynb Cell 13\u001b[0m line \u001b[0;36m2\n\u001b[1;32m     <a href='vscode-notebook-cell:/Users/jolineduong/Desktop/LHL/Statistical-Modelling-Python-Project/notebooks/yelp_foursquare_EDA.ipynb#X15sZmlsZQ%3D%3D?line=26'>27</a>\u001b[0m latitude \u001b[39m=\u001b[39m row[\u001b[39m'\u001b[39m\u001b[39mlatitude\u001b[39m\u001b[39m'\u001b[39m]\n\u001b[1;32m     <a href='vscode-notebook-cell:/Users/jolineduong/Desktop/LHL/Statistical-Modelling-Python-Project/notebooks/yelp_foursquare_EDA.ipynb#X15sZmlsZQ%3D%3D?line=27'>28</a>\u001b[0m longitude \u001b[39m=\u001b[39m row[\u001b[39m'\u001b[39m\u001b[39mlongitude\u001b[39m\u001b[39m'\u001b[39m]\n\u001b[0;32m---> <a href='vscode-notebook-cell:/Users/jolineduong/Desktop/LHL/Statistical-Modelling-Python-Project/notebooks/yelp_foursquare_EDA.ipynb#X15sZmlsZQ%3D%3D?line=28'>29</a>\u001b[0m results \u001b[39m=\u001b[39m yelp_api_request(latitude,longitude,radius\u001b[39m=\u001b[39m\u001b[39m1000\u001b[39m,categories\u001b[39m=\u001b[39m\u001b[39mNone\u001b[39;00m)\n\u001b[1;32m     <a href='vscode-notebook-cell:/Users/jolineduong/Desktop/LHL/Statistical-Modelling-Python-Project/notebooks/yelp_foursquare_EDA.ipynb#X15sZmlsZQ%3D%3D?line=29'>30</a>\u001b[0m \u001b[39mprint\u001b[39m(results)\n",
      "\u001b[1;32m/Users/jolineduong/Desktop/LHL/Statistical-Modelling-Python-Project/notebooks/yelp_foursquare_EDA.ipynb Cell 13\u001b[0m line \u001b[0;36m4\n\u001b[1;32m      <a href='vscode-notebook-cell:/Users/jolineduong/Desktop/LHL/Statistical-Modelling-Python-Project/notebooks/yelp_foursquare_EDA.ipynb#X15sZmlsZQ%3D%3D?line=2'>3</a>\u001b[0m \u001b[39mdef\u001b[39;00m \u001b[39myelp_api_request\u001b[39m(latitude,longitude,radius,categories):\n\u001b[0;32m----> <a href='vscode-notebook-cell:/Users/jolineduong/Desktop/LHL/Statistical-Modelling-Python-Project/notebooks/yelp_foursquare_EDA.ipynb#X15sZmlsZQ%3D%3D?line=3'>4</a>\u001b[0m     key \u001b[39m=\u001b[39m os\u001b[39m.\u001b[39menviron[\u001b[39m'\u001b[39m\u001b[39mYELP_API_KEY\u001b[39m\u001b[39m'\u001b[39m]\n\u001b[1;32m      <a href='vscode-notebook-cell:/Users/jolineduong/Desktop/LHL/Statistical-Modelling-Python-Project/notebooks/yelp_foursquare_EDA.ipynb#X15sZmlsZQ%3D%3D?line=4'>5</a>\u001b[0m     yelp_url \u001b[39m=\u001b[39m \u001b[39m\"\u001b[39m\u001b[39mhttps://api.yelp.com/v3/businesses/search\u001b[39m\u001b[39m\"\u001b[39m\n\u001b[1;32m      <a href='vscode-notebook-cell:/Users/jolineduong/Desktop/LHL/Statistical-Modelling-Python-Project/notebooks/yelp_foursquare_EDA.ipynb#X15sZmlsZQ%3D%3D?line=5'>6</a>\u001b[0m     yelp_headers \u001b[39m=\u001b[39m {\u001b[39m\"\u001b[39m\u001b[39mauthorization\u001b[39m\u001b[39m\"\u001b[39m:\u001b[39mf\u001b[39m\u001b[39m\"\u001b[39m\u001b[39mBearer \u001b[39m\u001b[39m{\u001b[39;00mkey\u001b[39m}\u001b[39;00m\u001b[39m\"\u001b[39m,\u001b[39m\"\u001b[39m\u001b[39maccept\u001b[39m\u001b[39m\"\u001b[39m: \u001b[39m\"\u001b[39m\u001b[39mapplication/json\u001b[39m\u001b[39m\"\u001b[39m}\n",
      "File \u001b[0;32m<frozen os>:679\u001b[0m, in \u001b[0;36m__getitem__\u001b[0;34m(self, key)\u001b[0m\n",
      "\u001b[0;31mKeyError\u001b[0m: 'YELP_API_KEY'"
     ]
    }
   ],
   "source": [
    "# connect to yelp api\n",
    "\n",
    "def yelp_api_request(latitude,longitude,radius,categories):\n",
    "    key = os.environ.get('YELP_API_KEY')\n",
    "    yelp_url = \"https://api.yelp.com/v3/businesses/search\"\n",
    "    yelp_headers = {\"authorization\":f\"Bearer {key}\",\"accept\": \"application/json\"}\n",
    "    yelp_params = {\n",
    "        \"latitude\": latitude,\n",
    "        \"longitude\": longitude,\n",
    "        \"radius\": radius,\n",
    "        \"categories\": categories,\n",
    "        \"limit\": 10\n",
    "        }\n",
    "    yelp_response = requests.get(yelp_url, headers=yelp_headers, params=yelp_params)\n",
    "    yelp_data = yelp_response.json()\n",
    "\n",
    "    if 'businesses' in yelp_data:\n",
    "        return yelp_data['businesses']\n",
    "    else:\n",
    "        print(f\"Error: {yelp_data}\")\n",
    "        return []\n",
    "\n",
    "# read bike stations csv\n",
    "bike_df = pd.read_csv('bike_stations.csv')\n",
    "\n",
    "for index,row in bike_df.iterrows():\n",
    "    latitude = row['latitude']\n",
    "    longitude = row['longitude']\n",
    "    results = yelp_api_request(latitude,longitude,radius=1000,categories=None)\n",
    "    print(results)"
   ]
  },
  {
   "cell_type": "markdown",
   "metadata": {},
   "source": [
    "Parse through the response to get the POI (such as restaurants, bars, etc) details you want (ratings, name, location, etc)"
   ]
  },
  {
   "cell_type": "code",
   "execution_count": null,
   "metadata": {},
   "outputs": [],
   "source": [
    "for index,row in bike_df.iterrows():\n",
    "    latitude = row['latitude']\n",
    "    longitude = row['longitude']\n",
    "    results = yelp_api_request(latitude,longitude,radius=1000,categories='restaurants')\n",
    "\n",
    "    venue_name = results[0]['name']\n",
    "    venue_location = results[0]['location']\n",
    "\n",
    "    print(f'name = {venue_name}, location = {venue_location}')"
   ]
  },
  {
   "cell_type": "markdown",
   "metadata": {},
   "source": [
    "Put your parsed results into a DataFrame"
   ]
  },
  {
   "cell_type": "code",
   "execution_count": null,
   "metadata": {},
   "outputs": [],
   "source": [
    "# create dataframe to store venue data\n",
    "yelp_venue_df = pd.DataFrame()\n",
    "\n",
    "for index,row in bike_df.iterrows():\n",
    "    latitude = row['latitude']\n",
    "    longitude = row['longitude']\n",
    "\n",
    "    results = yelp_api_request(latitude,longitude,radius=1000,categories='restaurants')\n",
    "    norm_results = pd.json_normalize(results)\n",
    "    norm_results['station_id'] = row['id'] # add station id to dataframe\n",
    "\n",
    "    yelp_venue_df = pd.concat([yelp_venue_df,norm_results], ignore_index=True)\n",
    "\n",
    "yelp_venue_df"
   ]
  },
  {
   "cell_type": "code",
   "execution_count": null,
   "metadata": {},
   "outputs": [],
   "source": [
    "# save yepl venue dataframe to csv to avoid maxxing out api calls\n",
    "yelp_venue_df.to_csv('yelp_venue_df.csv', index=False)"
   ]
  },
  {
   "cell_type": "code",
   "execution_count": 215,
   "metadata": {},
   "outputs": [],
   "source": [
    "yelp_venues = pd.read_csv('yelp_venue_df.csv')\n",
    "\n",
    "# Select and rename columns from csv to create new dataframe\n",
    "new_yelp_df = yelp_venues[['name', 'rating', 'coordinates.longitude', 'coordinates.latitude', 'location.address1', 'station_id']].rename(columns={\n",
    "    'name': 'Name',\n",
    "    'rating': 'Rating',\n",
    "    'coordinates.longitude': 'Longitude',\n",
    "    'coordinates.latitude': 'Latitude',\n",
    "    'location.address1': 'Address',\n",
    "    'station_id': 'station_id'\n",
    "})\n",
    "\n",
    "new_yelp_df\n",
    "\n",
    "# save new yelp dataframe to csv\n",
    "new_yelp_df.to_csv('new_yelp_df.csv', index=False)"
   ]
  },
  {
   "cell_type": "markdown",
   "metadata": {},
   "source": [
    "# Comparing Results"
   ]
  },
  {
   "cell_type": "markdown",
   "metadata": {},
   "source": [
    "Which API provided you with more complete data? Provide an explanation. "
   ]
  },
  {
   "cell_type": "markdown",
   "metadata": {},
   "source": [
    "I believe yelp provided me with more complete data, it had a lot more fields available for you to use to decide what information you wanted to include. It was also a cleaner data set to work with. Yelp gave me more options on what information I could extract for the restaurants around the stations. Additionally, Yelp provided me with more POIs (2463) compared to foursquare (247)."
   ]
  },
  {
   "cell_type": "markdown",
   "metadata": {},
   "source": [
    "Get the top 10 restaurants according to their rating"
   ]
  },
  {
   "cell_type": "code",
   "execution_count": null,
   "metadata": {},
   "outputs": [],
   "source": [
    "new_yelp_df.sort_values(by=['Rating'], ascending=False).head(10)"
   ]
  }
 ],
 "metadata": {
  "kernelspec": {
   "display_name": "Python 3",
   "language": "python",
   "name": "python3"
  },
  "language_info": {
   "codemirror_mode": {
    "name": "ipython",
    "version": 3
   },
   "file_extension": ".py",
   "mimetype": "text/x-python",
   "name": "python",
   "nbconvert_exporter": "python",
   "pygments_lexer": "ipython3",
   "version": "3.11.5"
  }
 },
 "nbformat": 4,
 "nbformat_minor": 4
}
