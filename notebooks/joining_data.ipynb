{
 "cells": [
  {
   "cell_type": "markdown",
   "metadata": {},
   "source": [
    "Join the data from Part 1 with the data from Part 2 to create a new dataframe."
   ]
  },
  {
   "cell_type": "code",
   "execution_count": null,
   "metadata": {},
   "outputs": [],
   "source": [
    "import pandas as pd\n",
    "\n",
    "bike_df = pd.read_csv('bike_stations.csv')\n",
    "yelp_df = pd.read_csv('new_yelp_df.csv')\n",
    "\n",
    "# join bike and yelp dataframes\n",
    "bike_yelp_df = pd.merge(bike_df, yelp_df, how='left', on='station_id')\n",
    "\n",
    "# save to csv\n",
    "bike_yelp_df.to_csv('bike_yelp_df.csv', index=False)\n",
    "\n",
    "# rename column \n",
    "bike_yelp_df.rename(columns={'Name':'Restaurant'}, inplace=True)\n",
    "bike_yelp_df.rename(columns={'latitude':'station_latitude'}, inplace=True)\n",
    "bike_yelp_df.rename(columns={'longitude':'station_longitude'}, inplace=True)\n",
    "\n",
    "bike_yelp_df"
   ]
  },
  {
   "cell_type": "code",
   "execution_count": 73,
   "metadata": {},
   "outputs": [],
   "source": [
    "# check for null values\n",
    "null_restaurant = bike_yelp_df[bike_yelp_df['Restaurant'].isnull()]\n",
    "null_rating = bike_yelp_df[bike_yelp_df['Rating'].isnull()]\n",
    "null_stationid = bike_yelp_df[bike_yelp_df['station_id'].isnull()]\n",
    "null_address = bike_yelp_df[bike_yelp_df['Address'].isnull()]\n",
    "\n",
    "null_restaurant\n",
    "null_rating\n",
    "null_stationid\n",
    "null_address\n",
    "\n",
    "# drop null values - 1 restaurant was missing an address\n",
    "bike_yelp_df = bike_yelp_df.dropna()"
   ]
  },
  {
   "cell_type": "code",
   "execution_count": 74,
   "metadata": {},
   "outputs": [],
   "source": [
    "bike_yelp_df.to_csv('bike_yelp_df.csv', index=False)"
   ]
  },
  {
   "cell_type": "markdown",
   "metadata": {},
   "source": [
    "Duplicates are bound to happen since we are looking at all restaurants that are 1000m away from each bike station, there are restaurants that are going to be 1000m away from multiple bike stations. "
   ]
  },
  {
   "cell_type": "markdown",
   "metadata": {},
   "source": [
    "Provide a visualization that you used as part of your EDA process. Explain the initial pattern or relationship you discoved through this visualization. "
   ]
  },
  {
   "cell_type": "code",
   "execution_count": null,
   "metadata": {},
   "outputs": [],
   "source": [
    "import pandas as pd\n",
    "import numpy as np\n",
    "\n",
    "import matplotlib.pyplot as plt\n",
    "import seaborn as sns\n",
    "\n",
    "# histogram of free bike spots\n",
    "bike_yelp_df['free_bikes'].hist() # most stations have 0-5 free bikes\n",
    "\n",
    "# histogram of empty bike slots\n",
    "bike_yelp_df['empty_slots'].hist() # most stations have 5-15 empty slots"
   ]
  },
  {
   "cell_type": "markdown",
   "metadata": {},
   "source": [
    "When we compare the free bikes and the empty slots, you get a good idea of which areas in the city are busier. However, there are two different ways that we can interpret this data. On one hand, if there are a lot of bikes at a station, it's safe to assume that not many people are renting bikes in that area. It is also safe to assume that the station may be full because many people have already rented their bikes at a different station to get to that location and have returned their bikes. "
   ]
  },
  {
   "cell_type": "markdown",
   "metadata": {},
   "source": [
    "# Database"
   ]
  },
  {
   "cell_type": "markdown",
   "metadata": {},
   "source": [
    "Put all your results in an SQLite3 database (remember, SQLite stores its databases as files in your local machine - make sure to create your database in your project's data/ directory!)"
   ]
  },
  {
   "cell_type": "code",
   "execution_count": null,
   "metadata": {},
   "outputs": [],
   "source": [
    "import sqlite3\n",
    "from sqlite3 import Error\n",
    "\n",
    "df = pd.read_csv('bike_yelp_df.csv')\n",
    "\n",
    "def create_connection(path):\n",
    "    connection = None\n",
    "    try:\n",
    "        connection = sqlite3.connect(path)\n",
    "        print(\"Connection to SQLite DB successful\")\n",
    "    except Error as e:\n",
    "        print(f\"The error '{e}' occurred\")\n",
    "    return connection\n",
    "\n",
    "connection = create_connection(\"bike_yelp_df.db\")\n",
    "\n",
    "# turn dataframe into sql table\n",
    "df.to_sql('bike_yelp_df', connection, if_exists='replace', index=False)\n",
    "\n",
    "def execute_query(connection, query):\n",
    "    cursor = connection.cursor()\n",
    "    try:\n",
    "        cursor.execute(query)\n",
    "        result = cursor.fetchall()\n",
    "        column_names = [description[0] for description in cursor.description]\n",
    "        df = pd.DataFrame(result, columns=column_names)\n",
    "        display(df) # display works better than print in jupyter notebook\n",
    "    except Error as e:\n",
    "        print(f\"The error '{e}' occurred\")\n",
    "    \n",
    "# put results in database\n",
    "sql_query = \"SELECT * from bike_yelp_df\"\n",
    "rows = execute_query(connection, sql_query)\n"
   ]
  },
  {
   "cell_type": "markdown",
   "metadata": {},
   "source": [
    "Look at the data before and after the join to validate your data."
   ]
  },
  {
   "cell_type": "code",
   "execution_count": null,
   "metadata": {},
   "outputs": [],
   "source": [
    "bike = pd.read_csv('bike_stations.csv')\n",
    "yelp = pd.read_csv('new_yelp_df.csv')\n",
    "\n",
    "bike_yelp = pd.read_csv('bike_yelp_df.csv')\n",
    "\n",
    "bike\n",
    "yelp\n",
    "bike_yelp"
   ]
  }
 ],
 "metadata": {
  "kernelspec": {
   "display_name": "Python 3",
   "language": "python",
   "name": "python3"
  },
  "language_info": {
   "codemirror_mode": {
    "name": "ipython",
    "version": 3
   },
   "file_extension": ".py",
   "mimetype": "text/x-python",
   "name": "python",
   "nbconvert_exporter": "python",
   "pygments_lexer": "ipython3",
   "version": "3.11.5"
  }
 },
 "nbformat": 4,
 "nbformat_minor": 4
}
